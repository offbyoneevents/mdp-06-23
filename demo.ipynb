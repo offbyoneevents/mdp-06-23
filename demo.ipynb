{
 "cells": [
  {
   "cell_type": "code",
   "execution_count": null,
   "metadata": {},
   "outputs": [],
   "source": [
    "1 + 1"
   ]
  },
  {
   "cell_type": "code",
   "execution_count": null,
   "metadata": {},
   "outputs": [],
   "source": [
    "print(\"Hello world\")"
   ]
  },
  {
   "attachments": {},
   "cell_type": "markdown",
   "metadata": {},
   "source": [
    "This is markdown!\n",
    "\n",
    "**BOLD**\n",
    "\n",
    "*italic*\n",
    "\n",
    "* List One\n",
    "* List Two\n",
    "* List Three\n",
    "\n",
    "[MDP June Meeting](https://www.meetup.com/memphis-technology-user-groups/events/293317699/)\n",
    "\n",
    "![MDP meetup image](https://secure.meetupstatic.com/photos/event/1/7/1/4/600_499325908.webp?w=750)"
   ]
  },
  {
   "cell_type": "code",
   "execution_count": null,
   "metadata": {},
   "outputs": [],
   "source": [
    "coin = \"bitcoin\"\n",
    "quantity = 1.3\n",
    "buy = True\n",
    "timestamp = \"2023-6-8\""
   ]
  },
  {
   "cell_type": "code",
   "execution_count": null,
   "metadata": {},
   "outputs": [],
   "source": [
    "print(f\"You bought {quantity} {coin}\")"
   ]
  },
  {
   "cell_type": "code",
   "execution_count": null,
   "metadata": {},
   "outputs": [],
   "source": [
    "import datetime\n",
    "\n",
    "timestamp = datetime.datetime.now().date()\n",
    "\n",
    "print(timestamp.strftime(\"%Y-%m-%d\"))"
   ]
  },
  {
   "cell_type": "code",
   "execution_count": null,
   "metadata": {},
   "outputs": [],
   "source": [
    "bitcoin = {\n",
    "    \"coin\": \"bitcoin\",\n",
    "    \"quantity\": 1.3,\n",
    "    \"buy\": True,\n",
    "    \"timestamp\": datetime.datetime.now().date()\n",
    "}\n",
    "\n",
    "print(f\"You bought {bitcoin['quantity']} {bitcoin['coin']} on {bitcoin['timestamp'].strftime('%Y-%m-%d')}\")"
   ]
  },
  {
   "cell_type": "code",
   "execution_count": null,
   "metadata": {},
   "outputs": [],
   "source": [
    "ethereum = {\n",
    "    \"coin\": \"ethereum\",\n",
    "    \"quantity\": 13.4,\n",
    "    \"buy\": False,\n",
    "    \"timestamp\": datetime.datetime.now().date()\n",
    "}\n",
    "\n",
    "print(f\"You sold {ethereum['quantity']} {ethereum['coin']} on {ethereum['timestamp'].strftime('%Y-%m-%d')}\")"
   ]
  },
  {
   "cell_type": "code",
   "execution_count": null,
   "metadata": {},
   "outputs": [],
   "source": [
    "portfolio = [\n",
    "    bitcoin, ethereum\n",
    "]"
   ]
  },
  {
   "cell_type": "code",
   "execution_count": null,
   "metadata": {},
   "outputs": [],
   "source": [
    "for investment in portfolio:\n",
    "    if investment[\"buy\"]:\n",
    "        print(f\"You bought {investment['quantity']} {investment['coin']}\")\n",
    "    else:\n",
    "        print(f\"You sold {investment['quantity']} {investment['coin']}\")"
   ]
  },
  {
   "cell_type": "code",
   "execution_count": null,
   "metadata": {},
   "outputs": [],
   "source": [
    "def create_investment(coin, quantity, buy=True):\n",
    "    return {\n",
    "        \"coin\": coin,\n",
    "        \"quantity\": quantity,\n",
    "        \"buy\": buy,\n",
    "        \"timestamp\": datetime.datetime.now().date()\n",
    "    }"
   ]
  },
  {
   "cell_type": "code",
   "execution_count": null,
   "metadata": {},
   "outputs": [],
   "source": [
    "portfolio = [\n",
    "    create_investment(\"bitcoin\", 1.3),\n",
    "    create_investment(\"bitcoin\", 0.3, False),\n",
    "    create_investment(\"ethereum\", 13.4),\n",
    "    create_investment(\"dogecoin\", 134.43),\n",
    "    create_investment(buy=False, quantity=100.0, coin=\"dogecoin\")\n",
    "]"
   ]
  },
  {
   "cell_type": "code",
   "execution_count": null,
   "metadata": {},
   "outputs": [],
   "source": [
    "from collections import Counter\n",
    "\n",
    "def get_portfolio_totals(investments):\n",
    "    totals = Counter()\n",
    "\n",
    "    for investment in investments:\n",
    "        totals[investment['coin']] += investment['quantity'] if investment['buy'] else (investment['quantity'] * -1)\n",
    "    \n",
    "    return totals\n",
    "\n",
    "def summarize(investments):\n",
    "    totals = get_portfolio_totals(investments)\n",
    "\n",
    "    for (coin, quantity) in totals.items():\n",
    "        print(f\"You own {quantity:.2f} {coin}\")\n",
    "\n",
    "summarize(portfolio)\n"
   ]
  },
  {
   "cell_type": "code",
   "execution_count": null,
   "metadata": {},
   "outputs": [],
   "source": [
    "%pip install requests"
   ]
  },
  {
   "cell_type": "code",
   "execution_count": null,
   "metadata": {},
   "outputs": [],
   "source": [
    "import requests\n",
    "\n",
    "COIN_GECKO_PRICE = \"https://api.coingecko.com/api/v3/simple/price?ids={}&vs_currencies=usd\"\n",
    "\n",
    "def get_portfolio_value(investments):\n",
    "    totals = get_portfolio_totals(investments)\n",
    "\n",
    "    coins = totals.keys()\n",
    "\n",
    "    coin_prices = requests.get(COIN_GECKO_PRICE.format(\",\".join(coins))).json()\n",
    "\n",
    "    for (coin, quantity) in totals.items():\n",
    "        print(f\"You own {quantity:.2f} {coin} worth {(coin_prices[coin]['usd'] * quantity):.2f}\")\n"
   ]
  },
  {
   "cell_type": "code",
   "execution_count": null,
   "metadata": {},
   "outputs": [],
   "source": [
    "get_portfolio_value(portfolio)"
   ]
  },
  {
   "cell_type": "code",
   "execution_count": null,
   "metadata": {},
   "outputs": [],
   "source": [
    "import numpy as np"
   ]
  },
  {
   "cell_type": "code",
   "execution_count": null,
   "metadata": {},
   "outputs": [],
   "source": [
    "V = np.arange(20)\n",
    "V"
   ]
  },
  {
   "cell_type": "code",
   "execution_count": null,
   "metadata": {},
   "outputs": [],
   "source": [
    "V[4]"
   ]
  },
  {
   "cell_type": "code",
   "execution_count": null,
   "metadata": {},
   "outputs": [],
   "source": [
    "V[5:10]"
   ]
  },
  {
   "cell_type": "code",
   "execution_count": null,
   "metadata": {},
   "outputs": [],
   "source": [
    "V + 4"
   ]
  },
  {
   "cell_type": "code",
   "execution_count": null,
   "metadata": {},
   "outputs": [],
   "source": [
    "W = np.random.randint(0, 10, size=len(V))\n",
    "W"
   ]
  },
  {
   "cell_type": "code",
   "execution_count": null,
   "metadata": {},
   "outputs": [],
   "source": [
    "V - W"
   ]
  },
  {
   "cell_type": "code",
   "execution_count": null,
   "metadata": {},
   "outputs": [],
   "source": [
    "x = np.linspace(0, 10, 101)\n",
    "y = 2 * (pow(x, 2))\n",
    "\n",
    "list(zip(x, y))"
   ]
  },
  {
   "cell_type": "code",
   "execution_count": null,
   "metadata": {},
   "outputs": [],
   "source": [
    "M = np.random.randint(0, 10, size=(5, 4))\n",
    "M"
   ]
  },
  {
   "cell_type": "code",
   "execution_count": null,
   "metadata": {},
   "outputs": [],
   "source": [
    "M[2][3]"
   ]
  },
  {
   "cell_type": "code",
   "execution_count": null,
   "metadata": {},
   "outputs": [],
   "source": [
    "M[2,3]"
   ]
  },
  {
   "cell_type": "code",
   "execution_count": null,
   "metadata": {},
   "outputs": [],
   "source": [
    "M[:, 1]"
   ]
  },
  {
   "cell_type": "code",
   "execution_count": null,
   "metadata": {},
   "outputs": [],
   "source": [
    "M.shape"
   ]
  },
  {
   "cell_type": "code",
   "execution_count": null,
   "metadata": {},
   "outputs": [],
   "source": [
    "M.reshape(4,5)"
   ]
  },
  {
   "cell_type": "code",
   "execution_count": null,
   "metadata": {},
   "outputs": [],
   "source": [
    "from faker import Faker"
   ]
  },
  {
   "cell_type": "code",
   "execution_count": null,
   "metadata": {},
   "outputs": [],
   "source": [
    "fake = Faker()"
   ]
  },
  {
   "cell_type": "code",
   "execution_count": null,
   "metadata": {},
   "outputs": [],
   "source": [
    "fake.city()"
   ]
  },
  {
   "cell_type": "code",
   "execution_count": null,
   "metadata": {},
   "outputs": [],
   "source": [
    "cities = [fake.city() for _ in np.arange(M.shape[1])]\n",
    "cities"
   ]
  },
  {
   "cell_type": "code",
   "execution_count": null,
   "metadata": {},
   "outputs": [],
   "source": [
    "fake.pyfloat?"
   ]
  },
  {
   "cell_type": "code",
   "execution_count": null,
   "metadata": {},
   "outputs": [],
   "source": [
    "city_data = [\n",
    "    [fake.pyfloat(positive=True, max_value=100) for _ in np.arange(4)]\n",
    "    for _ in np.arange(len(cities))\n",
    "]"
   ]
  },
  {
   "cell_type": "code",
   "execution_count": null,
   "metadata": {},
   "outputs": [],
   "source": [
    "import pandas as pd"
   ]
  },
  {
   "cell_type": "code",
   "execution_count": null,
   "metadata": {},
   "outputs": [],
   "source": [
    "df = pd.DataFrame(data=city_data, columns=cities)"
   ]
  },
  {
   "cell_type": "code",
   "execution_count": null,
   "metadata": {},
   "outputs": [],
   "source": [
    "df"
   ]
  },
  {
   "cell_type": "code",
   "execution_count": null,
   "metadata": {},
   "outputs": [],
   "source": [
    "import csv\n",
    "\n",
    "with open(\"data.csv\", \"w\") as datafile:\n",
    "    w = csv.writer(datafile)\n",
    "    w.writerow(cities)\n",
    "    for _ in np.arange(len(cities)):\n",
    "        w.writerow([fake.pyfloat(positive=True, max_value=100) for _ in np.arange(4)])"
   ]
  },
  {
   "cell_type": "code",
   "execution_count": null,
   "metadata": {},
   "outputs": [],
   "source": [
    "df2 = pd.read_csv(\"data.csv\", header=0)"
   ]
  },
  {
   "cell_type": "code",
   "execution_count": null,
   "metadata": {},
   "outputs": [],
   "source": [
    "df2"
   ]
  },
  {
   "cell_type": "code",
   "execution_count": null,
   "metadata": {},
   "outputs": [],
   "source": [
    "from vega_datasets import data\n",
    "\n",
    "data.list_datasets()"
   ]
  },
  {
   "cell_type": "code",
   "execution_count": null,
   "metadata": {},
   "outputs": [],
   "source": [
    "cars = data(\"cars\")"
   ]
  },
  {
   "cell_type": "code",
   "execution_count": null,
   "metadata": {},
   "outputs": [],
   "source": [
    "cars.head()"
   ]
  },
  {
   "cell_type": "code",
   "execution_count": null,
   "metadata": {},
   "outputs": [],
   "source": [
    "cars.tail()"
   ]
  },
  {
   "cell_type": "code",
   "execution_count": null,
   "metadata": {},
   "outputs": [],
   "source": [
    "cars.head(n=10)"
   ]
  },
  {
   "cell_type": "code",
   "execution_count": null,
   "metadata": {},
   "outputs": [],
   "source": [
    "cars.columns"
   ]
  },
  {
   "cell_type": "code",
   "execution_count": null,
   "metadata": {},
   "outputs": [],
   "source": [
    "cars[\"Name\"]"
   ]
  },
  {
   "cell_type": "code",
   "execution_count": null,
   "metadata": {},
   "outputs": [],
   "source": [
    "cars.Name"
   ]
  },
  {
   "cell_type": "code",
   "execution_count": null,
   "metadata": {},
   "outputs": [],
   "source": [
    "cars.iloc[0]"
   ]
  },
  {
   "cell_type": "code",
   "execution_count": null,
   "metadata": {},
   "outputs": [],
   "source": [
    "cars[[\"Name\", \"Displacement\", \"Horsepower\", \"Cylinders\"]]"
   ]
  },
  {
   "cell_type": "code",
   "execution_count": null,
   "metadata": {},
   "outputs": [],
   "source": [
    "cars[cars[\"Cylinders\"] == 8][[\"Name\", \"Year\"]]"
   ]
  },
  {
   "cell_type": "code",
   "execution_count": null,
   "metadata": {},
   "outputs": [],
   "source": [
    "cars[\"Origin\"].unique()"
   ]
  },
  {
   "cell_type": "code",
   "execution_count": null,
   "metadata": {},
   "outputs": [],
   "source": [
    "pd.unique(cars[\"Origin\"])"
   ]
  },
  {
   "cell_type": "code",
   "execution_count": null,
   "metadata": {},
   "outputs": [],
   "source": [
    "cars[\"Year\"]"
   ]
  },
  {
   "cell_type": "code",
   "execution_count": null,
   "metadata": {},
   "outputs": [],
   "source": [
    "cars[\"Day\"] = cars[\"Year\"].apply(lambda x: x.day)\n",
    "cars[\"Month\"] = cars[\"Year\"].apply(lambda x: x.month)\n",
    "cars[\"Year\"] = cars[\"Year\"].apply(lambda x: x.year)"
   ]
  },
  {
   "cell_type": "code",
   "execution_count": null,
   "metadata": {},
   "outputs": [],
   "source": [
    "cars.head()"
   ]
  },
  {
   "cell_type": "code",
   "execution_count": null,
   "metadata": {},
   "outputs": [],
   "source": [
    "cars.groupby(\"Year\")[\"Miles_per_Gallon\"].mean()"
   ]
  },
  {
   "cell_type": "code",
   "execution_count": null,
   "metadata": {},
   "outputs": [],
   "source": [
    "cars.groupby(\"Year\")[\"Miles_per_Gallon\"].mean().plot(kind=\"bar\")"
   ]
  },
  {
   "cell_type": "code",
   "execution_count": null,
   "metadata": {},
   "outputs": [],
   "source": [
    "cars.groupby(\"Origin\")[\"Miles_per_Gallon\"].mean().plot(kind=\"bar\")"
   ]
  },
  {
   "cell_type": "code",
   "execution_count": null,
   "metadata": {},
   "outputs": [],
   "source": [
    "import matplotlib.pyplot as plt "
   ]
  },
  {
   "cell_type": "code",
   "execution_count": null,
   "metadata": {},
   "outputs": [],
   "source": [
    "mpgdata = cars.groupby(\"Origin\")[\"Miles_per_Gallon\"].mean()"
   ]
  },
  {
   "cell_type": "code",
   "execution_count": null,
   "metadata": {},
   "outputs": [],
   "source": [
    "plt.bar(sorted(cars[\"Origin\"].unique()), mpgdata)"
   ]
  },
  {
   "cell_type": "code",
   "execution_count": null,
   "metadata": {},
   "outputs": [],
   "source": [
    "plt.bar(sorted(cars[\"Origin\"].unique()), mpgdata)\n",
    "plt.title(\"Mileage by Country\")\n",
    "plt.xlabel(\"Origin\")\n",
    "plt.ylabel(\"Miles per Gallon\")"
   ]
  },
  {
   "cell_type": "code",
   "execution_count": null,
   "metadata": {},
   "outputs": [],
   "source": [
    "plt.bar(sorted(cars[\"Origin\"].unique()), mpgdata, color=[\"r\", \"g\", \"y\"])\n",
    "plt.title(\"Mileage by Country\")\n",
    "plt.xlabel(\"Origin\")\n",
    "plt.ylabel(\"Miles per Gallon\")"
   ]
  },
  {
   "cell_type": "code",
   "execution_count": null,
   "metadata": {},
   "outputs": [],
   "source": [
    "plt.bar(sorted(cars[\"Origin\"].unique()), mpgdata, color=[\"r\", \"g\", \"y\"])\n",
    "plt.yticks([0, 10, 20, 30])\n",
    "plt.title(\"Mileage by Country\")\n",
    "plt.xlabel(\"Origin\")\n",
    "plt.ylabel(\"Miles per Gallon\")"
   ]
  },
  {
   "cell_type": "code",
   "execution_count": null,
   "metadata": {},
   "outputs": [],
   "source": [
    "x = \"Horsepower\"\n",
    "y = \"Miles_per_Gallon\"\n",
    "\n",
    "x_data = cars[x]\n",
    "y_data = cars[y]"
   ]
  },
  {
   "cell_type": "code",
   "execution_count": null,
   "metadata": {},
   "outputs": [],
   "source": [
    "ax = plt.axes()\n",
    "ax.scatter(x_data, y_data)\n",
    "ax.set_xlabel(x)\n",
    "ax.set_ylabel(y)"
   ]
  },
  {
   "cell_type": "code",
   "execution_count": null,
   "metadata": {},
   "outputs": [],
   "source": [
    "origin_labels = pd.factorize(cars[\"Origin\"])[0]\n",
    "\n",
    "ax = plt.axes()\n",
    "ax.scatter(x_data, y_data, c=origin_labels)\n",
    "ax.set_xlabel(x)\n",
    "ax.set_ylabel(y)"
   ]
  },
  {
   "cell_type": "code",
   "execution_count": null,
   "metadata": {},
   "outputs": [],
   "source": [
    "origin_labels = pd.factorize(cars[\"Origin\"])[0]\n",
    "\n",
    "ax = plt.axes()\n",
    "ax.scatter(x_data, y_data, c=origin_labels, s=cars[\"Displacement\"] * 0.5)\n",
    "ax.set_xlabel(x)\n",
    "ax.set_ylabel(y)"
   ]
  },
  {
   "cell_type": "code",
   "execution_count": null,
   "metadata": {},
   "outputs": [],
   "source": [
    "seattle_weather = data(\"seattle-weather\")"
   ]
  },
  {
   "cell_type": "code",
   "execution_count": null,
   "metadata": {},
   "outputs": [],
   "source": [
    "seattle_weather.head()"
   ]
  },
  {
   "cell_type": "code",
   "execution_count": null,
   "metadata": {},
   "outputs": [],
   "source": [
    "seattle_weather[\"year\"] = seattle_weather[\"date\"].apply(lambda x: x.year)\n",
    "seattle_weather[\"month\"] = seattle_weather[\"date\"].apply(lambda x: x.month)\n",
    "seattle_weather[\"day\"] = seattle_weather[\"date\"].apply(lambda x: x.day)"
   ]
  },
  {
   "cell_type": "code",
   "execution_count": null,
   "metadata": {},
   "outputs": [],
   "source": [
    "seattle_weather.head()"
   ]
  },
  {
   "cell_type": "code",
   "execution_count": null,
   "metadata": {},
   "outputs": [],
   "source": [
    "seattle_weather = seattle_weather.drop(\"date\", axis=1)"
   ]
  },
  {
   "cell_type": "code",
   "execution_count": null,
   "metadata": {},
   "outputs": [],
   "source": [
    "seattle_weather.head()"
   ]
  },
  {
   "cell_type": "code",
   "execution_count": null,
   "metadata": {},
   "outputs": [],
   "source": [
    "seattle_weather.groupby([\"year\", \"month\"]).sum()[\"precipitation\"]"
   ]
  },
  {
   "cell_type": "code",
   "execution_count": null,
   "metadata": {},
   "outputs": [],
   "source": [
    "precip_by_mo = seattle_weather.groupby(\"month\").sum()[\"precipitation\"]\n",
    "precip_by_mo"
   ]
  },
  {
   "cell_type": "code",
   "execution_count": null,
   "metadata": {},
   "outputs": [],
   "source": [
    "seattle_weather.groupby(\"month\").sum()[\"precipitation\"].plot(kind=\"pie\")"
   ]
  },
  {
   "cell_type": "code",
   "execution_count": null,
   "metadata": {},
   "outputs": [],
   "source": [
    "plt.pie(precip_by_mo)"
   ]
  },
  {
   "cell_type": "code",
   "execution_count": null,
   "metadata": {},
   "outputs": [],
   "source": [
    "plt.pie(precip_by_mo);"
   ]
  },
  {
   "cell_type": "code",
   "execution_count": null,
   "metadata": {},
   "outputs": [],
   "source": [
    "import calendar\n",
    "plt.pie(precip_by_mo, labels=[calendar.month_name[m] for m in np.arange(1, 13)]);"
   ]
  },
  {
   "cell_type": "code",
   "execution_count": null,
   "metadata": {},
   "outputs": [],
   "source": [
    "import calendar\n",
    "plt.pie(precip_by_mo, labels=[calendar.month_abbr[m] for m in np.arange(1, 13)]);"
   ]
  },
  {
   "cell_type": "code",
   "execution_count": null,
   "metadata": {},
   "outputs": [],
   "source": [
    "import calendar\n",
    "\n",
    "values = precip_by_mo.values\n",
    "max_idx = values.argmax()\n",
    "exploding = np.zeros((len(values),))\n",
    "exploding[max_idx] = 0.4\n",
    "\n",
    "plt.pie(precip_by_mo, labels=[calendar.month_abbr[m] for m in np.arange(1, 13)], explode=exploding);"
   ]
  },
  {
   "cell_type": "code",
   "execution_count": null,
   "metadata": {},
   "outputs": [],
   "source": [
    "seattle_weather.groupby([\"year\", \"month\"]).sum()[\"precipitation\"]"
   ]
  },
  {
   "cell_type": "code",
   "execution_count": null,
   "metadata": {},
   "outputs": [],
   "source": [
    "precip = seattle_weather.groupby([\"year\", \"month\"]).sum()[\"precipitation\"]\n",
    "precip.plot(kind=\"line\")"
   ]
  },
  {
   "cell_type": "code",
   "execution_count": null,
   "metadata": {},
   "outputs": [],
   "source": [
    "precip.index.values"
   ]
  },
  {
   "cell_type": "code",
   "execution_count": null,
   "metadata": {},
   "outputs": [],
   "source": [
    "labels = [f\"{calendar.month_abbr[m]} {y - 2000}\" for (y, m) in precip.index.values]\n",
    "labels[:10]"
   ]
  },
  {
   "cell_type": "code",
   "execution_count": null,
   "metadata": {},
   "outputs": [],
   "source": [
    "plt.plot(precip.values)"
   ]
  },
  {
   "cell_type": "code",
   "execution_count": null,
   "metadata": {},
   "outputs": [],
   "source": [
    "ax = plt.axes()\n",
    "ax.plot(precip.values)\n",
    "ax.set_xticks(np.arange(len(labels)))\n",
    "ax.set_xticklabels(labels);"
   ]
  },
  {
   "cell_type": "code",
   "execution_count": null,
   "metadata": {},
   "outputs": [],
   "source": [
    "step = 4\n",
    "positions = np.arange(len(labels), step=step)\n",
    "ax = plt.axes()\n",
    "ax.plot(precip.values)\n",
    "ax.set_xticks(positions, labels=np.array(labels)[positions], rotation=90);\n"
   ]
  },
  {
   "cell_type": "code",
   "execution_count": null,
   "metadata": {},
   "outputs": [],
   "source": [
    "step = 4\n",
    "positions = np.arange(len(labels), step=step)\n",
    "ax = plt.axes()\n",
    "ax.plot(precip.values, 'g')\n",
    "ax.set_xticks(positions, labels=np.array(labels)[positions], rotation=90);"
   ]
  },
  {
   "cell_type": "code",
   "execution_count": null,
   "metadata": {},
   "outputs": [],
   "source": [
    "step = 4\n",
    "positions = np.arange(len(labels), step=step)\n",
    "ax = plt.axes()\n",
    "ax.plot(precip.values, '-.g')\n",
    "ax.set_xticks(positions, labels=np.array(labels)[positions], rotation=90);"
   ]
  },
  {
   "cell_type": "code",
   "execution_count": null,
   "metadata": {},
   "outputs": [],
   "source": [
    "precip = seattle_weather.groupby([\"year\", \"month\"])[\"precipitation\"].mean()\n",
    "wind = seattle_weather.groupby([\"year\", \"month\"])[\"wind\"].mean()"
   ]
  },
  {
   "cell_type": "code",
   "execution_count": null,
   "metadata": {},
   "outputs": [],
   "source": [
    "step = 4\n",
    "positions = np.arange(len(labels), step=step)\n",
    "ax = plt.axes()\n",
    "ax.plot(precip.values)\n",
    "ax.plot(wind.values)\n",
    "ax.set_xticks(positions, labels=np.array(labels)[positions], rotation=90);"
   ]
  },
  {
   "cell_type": "code",
   "execution_count": null,
   "metadata": {},
   "outputs": [],
   "source": [
    "step = 4\n",
    "positions = np.arange(len(labels), step=step)\n",
    "ax = plt.axes()\n",
    "ax.plot(precip.values, label=\"Average Precipitation\")\n",
    "ax.plot(wind.values, label=\"Average Wind\")\n",
    "ax.legend()\n",
    "ax.set_xticks(positions, labels=np.array(labels)[positions], rotation=90);"
   ]
  },
  {
   "cell_type": "code",
   "execution_count": null,
   "metadata": {},
   "outputs": [],
   "source": [
    "step = 4\n",
    "positions = np.arange(len(labels), step=step)\n",
    "ax = plt.axes()\n",
    "ax.plot(precip.values, '-g', label=\"Average Precipitation\")\n",
    "ax.plot(wind.values, '-.y', label=\"Average Wind\")\n",
    "ax.legend()\n",
    "ax.set_xticks(positions, labels=np.array(labels)[positions], rotation=90);"
   ]
  },
  {
   "cell_type": "code",
   "execution_count": null,
   "metadata": {},
   "outputs": [],
   "source": []
  }
 ],
 "metadata": {
  "kernelspec": {
   "display_name": ".venv",
   "language": "python",
   "name": "python3"
  },
  "language_info": {
   "codemirror_mode": {
    "name": "ipython",
    "version": 3
   },
   "file_extension": ".py",
   "mimetype": "text/x-python",
   "name": "python",
   "nbconvert_exporter": "python",
   "pygments_lexer": "ipython3",
   "version": "3.10.6"
  },
  "orig_nbformat": 4
 },
 "nbformat": 4,
 "nbformat_minor": 2
}
